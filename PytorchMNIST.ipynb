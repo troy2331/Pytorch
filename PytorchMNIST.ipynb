{
  "nbformat": 4,
  "nbformat_minor": 0,
  "metadata": {
    "colab": {
      "name": "PytorchMNIST.ipynb",
      "provenance": [],
      "collapsed_sections": []
    },
    "kernelspec": {
      "name": "python3",
      "display_name": "Python 3"
    },
    "language_info": {
      "name": "python"
    }
  },
  "cells": [
    {
      "cell_type": "code",
      "metadata": {
        "colab": {
          "base_uri": "https://localhost:8080/"
        },
        "id": "udQSwZKiwmMM",
        "outputId": "6567bcc9-0f09-4986-b439-baca0936cedf"
      },
      "source": [
        "# Pytorch] MLP 설계 연습, MNIST이용\n",
        "\n",
        "# 순서\n",
        "'''\n",
        "1. 모듈 임포트하기\n",
        "2. 딥러닝 모델 설계할때 사용할 장비 확인 (  ? )\n",
        "3. MNIST 데이터 다운, Train,Test 셋 분리\n",
        "4. 데이터 확인\n",
        "5. MLP 설계하기 \n",
        "6. Optimizer, Objective Function 설정하기\n",
        "7. MLP모델 학습을 진행하면서 학습 데이터에 대한 모델 성능을 확인하는 함수 정의하기 \n",
        "8. 학습되는 과정 속에서 검증 데이터에 대한 모델의 성능을 확인하는 함수 정의하기\n",
        "9. MLP학습을 실행하면서 Train, Test set의 Loss, Test set Accuarcy확인하기\n",
        "'''\n",
        "# 1\n",
        "import numpy as np\n",
        "import matplotlib.pyplot as plt\n",
        "import torch\n",
        "import torch.nn as nn\n",
        "import torch.nn.functional as F \n",
        "from torchvision import transforms, datasets\n",
        "\n",
        "if torch.cuda.is_available():\n",
        "  DEVICE = torch.device('cuda')\n",
        "else:\n",
        "  DEVICE = torch.device('cpu')\n",
        "  \n",
        "print('Using Pytorch Version:', torch.__version__, 'Device:', DEVICE)\n",
        "# Pytorch version 1.9.0 , cu102"
      ],
      "execution_count": 13,
      "outputs": [
        {
          "output_type": "stream",
          "text": [
            "Using Pytorch Version: 1.9.0+cu102 Device: cpu\n"
          ],
          "name": "stdout"
        }
      ]
    },
    {
      "cell_type": "code",
      "metadata": {
        "id": "U2P4ediex0fZ"
      },
      "source": [
        "BATCH_SIZE = 32\n",
        "EPOCHS = 10 \n",
        "\n",
        "train_dataset = datasets.MNIST(root = \"../data/MNIST\",\n",
        "                               train=True,\n",
        "                               download = True,\n",
        "                               transform = transforms.ToTensor())\n",
        "test_dataset = datasets.MNIST(root = \"../data/MNIST\",\n",
        "                              train = False,\n",
        "                              transform = transforms.ToTensor())\n",
        "train_loader = torch.utils.data.DataLoader(dataset = train_dataset,\n",
        "                                           batch_size = BATCH_SIZE,\n",
        "                                           shuffle = True)\n",
        "test_loader = torch.utils.data.DataLoader(dataset = test_dataset,\n",
        "                                          batch_size = BATCH_SIZE,\n",
        "                                          shuffle = False)"
      ],
      "execution_count": 14,
      "outputs": []
    },
    {
      "cell_type": "code",
      "metadata": {
        "colab": {
          "base_uri": "https://localhost:8080/",
          "height": 128
        },
        "id": "B9aqzlQGi30Y",
        "outputId": "cfa7e043-effa-4a81-cbd5-bc48b78a2e51"
      },
      "source": [
        "for (X_train, y_train) in train_loader:\n",
        "  print('X_train:', X_train.size(), 'type:', X_train.type())\n",
        "  print('y_train:', y_train.size(), 'type:', y_train.type())\n",
        "  break\n",
        "\n",
        "pltsize = 1\n",
        "plt.figure(figsize = (10*pltsize, pltsize))\n",
        "for i in range(10):\n",
        "  plt.subplot(1,10,i+1)\n",
        "  plt.axis('off')\n",
        "  plt.imshow(X_train[i, :,:,:].numpy().reshape(28,28), cmap=\"gray_r\")\n",
        "  plt.title('Class:' + str(y_train[i].item()))\n",
        "  "
      ],
      "execution_count": 15,
      "outputs": [
        {
          "output_type": "stream",
          "text": [
            "X_train: torch.Size([32, 1, 28, 28]) type: torch.FloatTensor\n",
            "y_train: torch.Size([32]) type: torch.LongTensor\n"
          ],
          "name": "stdout"
        },
        {
          "output_type": "display_data",
          "data": {
            "image/png": "[encoded data removed]",
            "text/plain": [
              "<Figure size 720x72 with 10 Axes>"
            ]
          },
          "metadata": {
            "tags": [],
            "needs_background": "light"
          }
        }
      ]
    },
    {
      "cell_type": "code",
      "metadata": {
        "id": "4lH4NjNkmb9q"
      },
      "source": [
        "class Net(nn.Module):\n",
        "  def __init__(self):\n",
        "    super(Net, self).__init__()\n",
        "    self.fc1 = nn.Linear(28*28, 512)\n",
        "    self.fc2 = nn.Linear(512,256)\n",
        "    self.fc3 = nn.Linear(256,10)\n",
        "\n",
        "  def forward(self,x):\n",
        "    x = x.view(-1, 28*28)\n",
        "    x = self.fc1(x)\n",
        "    x = F.sigmoid(x)\n",
        "    x = self.fc2(x)\n",
        "    x = F.sigmoid(x)\n",
        "    x = self.fc3(x)\n",
        "    x = F.log_softmax(x, dim=1)\n",
        "    return x\n"
      ],
      "execution_count": 26,
      "outputs": []
    },
    {
      "cell_type": "code",
      "metadata": {
        "colab": {
          "base_uri": "https://localhost:8080/"
        },
        "id": "nq8TZXuznGOe",
        "outputId": "c0aacfc1-fc9f-42bd-df3d-ff0daceee1cd"
      },
      "source": [
        "model = Net().to(DEVICE)\n",
        "optimizer = torch.optim.SGD(model.parameters(), lr=0.01, momentum = 0.5)\n",
        "criterion = nn.CrossEntropyLoss()\n",
        "print(model)"
      ],
      "execution_count": 27,
      "outputs": [
        {
          "output_type": "stream",
          "text": [
            "Net(\n",
            "  (fc1): Linear(in_features=784, out_features=512, bias=True)\n",
            "  (fc2): Linear(in_features=512, out_features=256, bias=True)\n",
            "  (fc3): Linear(in_features=256, out_features=10, bias=True)\n",
            ")\n"
          ],
          "name": "stdout"
        }
      ]
    },
    {
      "cell_type": "code",
      "metadata": {
        "id": "JQtqhLLNnXeq"
      },
      "source": [
        "def train(model, train_loader, optimizer, log_interval):\n",
        "  model.train()\n",
        "  for batch_idx,(image, label) in enumerate(train_loader):\n",
        "    image = image.to(DEVICE)\n",
        "    label = label.to(DEVICE)\n",
        "    optimizer.zero_grad()\n",
        "    output = model(image)\n",
        "    loss = criterion(output, label)\n",
        "    loss.backward()\n",
        "    optimizer.step()\n",
        "    if batch_idx % log_interval == 0:\n",
        "      print(\"train Epoch: {} [{}/{}({:.0f}%)]\\tTrain Loss: {:.6f}\".format(\n",
        "          Epoch, batch_idx * len(image),\n",
        "          len(train_loader.dataset), 100.*batch_idx/len(train_loader),\n",
        "          loss.item()))\n",
        "      "
      ],
      "execution_count": 28,
      "outputs": []
    },
    {
      "cell_type": "code",
      "metadata": {
        "id": "tOmc3SZ5oJRA"
      },
      "source": [
        "def evaluate(model, test_loader):\n",
        "  model.eval()\n",
        "  test_loss = 0\n",
        "  correct = 0\n",
        "  with torch.no_grad():\n",
        "    for image, label in test_loader:\n",
        "      image = image.to(DEVICE)\n",
        "      label = label.to(DEVICE)\n",
        "      output = model(image)\n",
        "      test_loss += criterion(output, label).item()\n",
        "      prediction = output.max(1, keepdim = True)[1]\n",
        "      correct += prediction.eq(label.view_as(prediction)).sum().item()\n",
        "\n",
        "  test_loss /= len(test_loader.dataset)\n",
        "  test_accuracy = 100. * correct / len(test_loader.dataset)\n",
        "  return test_loss, test_accuracy"
      ],
      "execution_count": 29,
      "outputs": []
    },
    {
      "cell_type": "code",
      "metadata": {
        "colab": {
          "base_uri": "https://localhost:8080/"
        },
        "id": "8CJhhGQ3oxlj",
        "outputId": "2e98d008-e161-483a-c19e-1a5106c4705d"
      },
      "source": [
        "for Epoch in range(1,EPOCHS+1):\n",
        "  train(model, train_loader, optimizer, log_interval = 200)\n",
        "  test_loss, test_accuracy = evaluate(model, test_loader)\n",
        "  print(\"\\n[EPOCH: {}], \\tTest Loss: {:.4f}, \\tTest Accuarcy: {:.2f}%\\n\".format(Epoch, test_loss, test_accuracy))"
      ],
      "execution_count": 30,
      "outputs": [
        {
          "output_type": "stream",
          "text": [
            "/usr/local/lib/python3.7/dist-packages/torch/nn/functional.py:1805: UserWarning: nn.functional.sigmoid is deprecated. Use torch.sigmoid instead.\n",
            "  warnings.warn(\"nn.functional.sigmoid is deprecated. Use torch.sigmoid instead.\")\n"
          ],
          "name": "stderr"
        },
        {
          "output_type": "stream",
          "text": [
            "train Epoch: 1 [0/60000(0%)]\tTrain Loss: 2.276194\n",
            "train Epoch: 1 [6400/60000(11%)]\tTrain Loss: 2.290925\n",
            "train Epoch: 1 [12800/60000(21%)]\tTrain Loss: 2.310669\n",
            "train Epoch: 1 [19200/60000(32%)]\tTrain Loss: 2.292722\n",
            "train Epoch: 1 [25600/60000(43%)]\tTrain Loss: 2.256329\n",
            "train Epoch: 1 [32000/60000(53%)]\tTrain Loss: 2.290349\n",
            "train Epoch: 1 [38400/60000(64%)]\tTrain Loss: 2.258722\n",
            "train Epoch: 1 [44800/60000(75%)]\tTrain Loss: 2.255940\n",
            "train Epoch: 1 [51200/60000(85%)]\tTrain Loss: 2.257387\n",
            "train Epoch: 1 [57600/60000(96%)]\tTrain Loss: 2.222601\n",
            "\n",
            "[EPOCH: 1], \tTest Loss: 0.0698, \tTest Accuarcy: 12.12%\n",
            "\n",
            "train Epoch: 2 [0/60000(0%)]\tTrain Loss: 2.279059\n",
            "train Epoch: 2 [6400/60000(11%)]\tTrain Loss: 2.217277\n",
            "train Epoch: 2 [12800/60000(21%)]\tTrain Loss: 2.172526\n",
            "train Epoch: 2 [19200/60000(32%)]\tTrain Loss: 2.038756\n",
            "train Epoch: 2 [25600/60000(43%)]\tTrain Loss: 1.978213\n",
            "train Epoch: 2 [32000/60000(53%)]\tTrain Loss: 1.820429\n",
            "train Epoch: 2 [38400/60000(64%)]\tTrain Loss: 1.790819\n",
            "train Epoch: 2 [44800/60000(75%)]\tTrain Loss: 1.618798\n",
            "train Epoch: 2 [51200/60000(85%)]\tTrain Loss: 1.395061\n",
            "train Epoch: 2 [57600/60000(96%)]\tTrain Loss: 1.364507\n",
            "\n",
            "[EPOCH: 2], \tTest Loss: 0.0406, \tTest Accuarcy: 59.40%\n",
            "\n",
            "train Epoch: 3 [0/60000(0%)]\tTrain Loss: 1.492689\n",
            "train Epoch: 3 [6400/60000(11%)]\tTrain Loss: 1.131014\n",
            "train Epoch: 3 [12800/60000(21%)]\tTrain Loss: 1.024097\n",
            "train Epoch: 3 [19200/60000(32%)]\tTrain Loss: 1.184109\n",
            "train Epoch: 3 [25600/60000(43%)]\tTrain Loss: 1.147033\n",
            "train Epoch: 3 [32000/60000(53%)]\tTrain Loss: 0.939393\n",
            "train Epoch: 3 [38400/60000(64%)]\tTrain Loss: 0.890847\n",
            "train Epoch: 3 [44800/60000(75%)]\tTrain Loss: 0.937034\n",
            "train Epoch: 3 [51200/60000(85%)]\tTrain Loss: 0.739297\n",
            "train Epoch: 3 [57600/60000(96%)]\tTrain Loss: 0.806593\n",
            "\n",
            "[EPOCH: 3], \tTest Loss: 0.0239, \tTest Accuarcy: 77.88%\n",
            "\n",
            "train Epoch: 4 [0/60000(0%)]\tTrain Loss: 0.761775\n",
            "train Epoch: 4 [6400/60000(11%)]\tTrain Loss: 0.739636\n",
            "train Epoch: 4 [12800/60000(21%)]\tTrain Loss: 0.588590\n",
            "train Epoch: 4 [19200/60000(32%)]\tTrain Loss: 0.466143\n",
            "train Epoch: 4 [25600/60000(43%)]\tTrain Loss: 0.894309\n",
            "train Epoch: 4 [32000/60000(53%)]\tTrain Loss: 0.583108\n",
            "train Epoch: 4 [38400/60000(64%)]\tTrain Loss: 0.488120\n",
            "train Epoch: 4 [44800/60000(75%)]\tTrain Loss: 0.829401\n",
            "train Epoch: 4 [51200/60000(85%)]\tTrain Loss: 0.595866\n",
            "train Epoch: 4 [57600/60000(96%)]\tTrain Loss: 0.690461\n",
            "\n",
            "[EPOCH: 4], \tTest Loss: 0.0172, \tTest Accuarcy: 84.29%\n",
            "\n",
            "train Epoch: 5 [0/60000(0%)]\tTrain Loss: 0.359500\n",
            "train Epoch: 5 [6400/60000(11%)]\tTrain Loss: 0.697659\n",
            "train Epoch: 5 [12800/60000(21%)]\tTrain Loss: 0.438320\n",
            "train Epoch: 5 [19200/60000(32%)]\tTrain Loss: 0.310637\n",
            "train Epoch: 5 [25600/60000(43%)]\tTrain Loss: 0.462523\n",
            "train Epoch: 5 [32000/60000(53%)]\tTrain Loss: 0.647516\n",
            "train Epoch: 5 [38400/60000(64%)]\tTrain Loss: 0.487847\n",
            "train Epoch: 5 [44800/60000(75%)]\tTrain Loss: 0.524592\n",
            "train Epoch: 5 [51200/60000(85%)]\tTrain Loss: 0.566321\n",
            "train Epoch: 5 [57600/60000(96%)]\tTrain Loss: 0.562580\n",
            "\n",
            "[EPOCH: 5], \tTest Loss: 0.0142, \tTest Accuarcy: 86.90%\n",
            "\n",
            "train Epoch: 6 [0/60000(0%)]\tTrain Loss: 0.565389\n",
            "train Epoch: 6 [6400/60000(11%)]\tTrain Loss: 0.487674\n",
            "train Epoch: 6 [12800/60000(21%)]\tTrain Loss: 0.257401\n",
            "train Epoch: 6 [19200/60000(32%)]\tTrain Loss: 0.598349\n",
            "train Epoch: 6 [25600/60000(43%)]\tTrain Loss: 0.450051\n",
            "train Epoch: 6 [32000/60000(53%)]\tTrain Loss: 0.331205\n",
            "train Epoch: 6 [38400/60000(64%)]\tTrain Loss: 0.676978\n",
            "train Epoch: 6 [44800/60000(75%)]\tTrain Loss: 0.695657\n",
            "train Epoch: 6 [51200/60000(85%)]\tTrain Loss: 0.396699\n",
            "train Epoch: 6 [57600/60000(96%)]\tTrain Loss: 0.358494\n",
            "\n",
            "[EPOCH: 6], \tTest Loss: 0.0128, \tTest Accuarcy: 88.16%\n",
            "\n",
            "train Epoch: 7 [0/60000(0%)]\tTrain Loss: 0.388259\n",
            "train Epoch: 7 [6400/60000(11%)]\tTrain Loss: 0.441658\n",
            "train Epoch: 7 [12800/60000(21%)]\tTrain Loss: 0.187661\n",
            "train Epoch: 7 [19200/60000(32%)]\tTrain Loss: 0.295263\n",
            "train Epoch: 7 [25600/60000(43%)]\tTrain Loss: 0.313603\n",
            "train Epoch: 7 [32000/60000(53%)]\tTrain Loss: 0.249754\n",
            "train Epoch: 7 [38400/60000(64%)]\tTrain Loss: 0.535731\n",
            "train Epoch: 7 [44800/60000(75%)]\tTrain Loss: 0.303305\n",
            "train Epoch: 7 [51200/60000(85%)]\tTrain Loss: 0.344032\n",
            "train Epoch: 7 [57600/60000(96%)]\tTrain Loss: 0.354807\n",
            "\n",
            "[EPOCH: 7], \tTest Loss: 0.0118, \tTest Accuarcy: 89.01%\n",
            "\n",
            "train Epoch: 8 [0/60000(0%)]\tTrain Loss: 0.255666\n",
            "train Epoch: 8 [6400/60000(11%)]\tTrain Loss: 0.412067\n",
            "train Epoch: 8 [12800/60000(21%)]\tTrain Loss: 0.282943\n",
            "train Epoch: 8 [19200/60000(32%)]\tTrain Loss: 0.751075\n",
            "train Epoch: 8 [25600/60000(43%)]\tTrain Loss: 0.432567\n",
            "train Epoch: 8 [32000/60000(53%)]\tTrain Loss: 0.550522\n",
            "train Epoch: 8 [38400/60000(64%)]\tTrain Loss: 0.165941\n",
            "train Epoch: 8 [44800/60000(75%)]\tTrain Loss: 0.146949\n",
            "train Epoch: 8 [51200/60000(85%)]\tTrain Loss: 0.317645\n",
            "train Epoch: 8 [57600/60000(96%)]\tTrain Loss: 0.251645\n",
            "\n",
            "[EPOCH: 8], \tTest Loss: 0.0112, \tTest Accuarcy: 89.49%\n",
            "\n",
            "train Epoch: 9 [0/60000(0%)]\tTrain Loss: 0.332663\n",
            "train Epoch: 9 [6400/60000(11%)]\tTrain Loss: 0.234289\n",
            "train Epoch: 9 [12800/60000(21%)]\tTrain Loss: 0.425631\n",
            "train Epoch: 9 [19200/60000(32%)]\tTrain Loss: 0.570972\n",
            "train Epoch: 9 [25600/60000(43%)]\tTrain Loss: 0.407874\n",
            "train Epoch: 9 [32000/60000(53%)]\tTrain Loss: 0.615072\n",
            "train Epoch: 9 [38400/60000(64%)]\tTrain Loss: 0.258396\n",
            "train Epoch: 9 [44800/60000(75%)]\tTrain Loss: 0.507529\n",
            "train Epoch: 9 [51200/60000(85%)]\tTrain Loss: 0.435591\n",
            "train Epoch: 9 [57600/60000(96%)]\tTrain Loss: 0.550711\n",
            "\n",
            "[EPOCH: 9], \tTest Loss: 0.0108, \tTest Accuarcy: 89.96%\n",
            "\n",
            "train Epoch: 10 [0/60000(0%)]\tTrain Loss: 0.533383\n",
            "train Epoch: 10 [6400/60000(11%)]\tTrain Loss: 0.240304\n",
            "train Epoch: 10 [12800/60000(21%)]\tTrain Loss: 0.420527\n",
            "train Epoch: 10 [19200/60000(32%)]\tTrain Loss: 0.229671\n",
            "train Epoch: 10 [25600/60000(43%)]\tTrain Loss: 0.352179\n",
            "train Epoch: 10 [32000/60000(53%)]\tTrain Loss: 0.293229\n",
            "train Epoch: 10 [38400/60000(64%)]\tTrain Loss: 0.278074\n",
            "train Epoch: 10 [44800/60000(75%)]\tTrain Loss: 0.655405\n",
            "train Epoch: 10 [51200/60000(85%)]\tTrain Loss: 0.630641\n",
            "train Epoch: 10 [57600/60000(96%)]\tTrain Loss: 0.566995\n",
            "\n",
            "[EPOCH: 10], \tTest Loss: 0.0104, \tTest Accuarcy: 90.37%\n",
            "\n"
          ],
          "name": "stdout"
        }
      ]
    },
    {
      "cell_type": "code",
      "metadata": {
        "id": "_pS9N2OtpND7"
      },
      "source": [
        ""
      ],
      "execution_count": 20,
      "outputs": []
    }
  ]
}